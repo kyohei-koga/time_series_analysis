{
 "cells": [
  {
   "cell_type": "code",
   "execution_count": 42,
   "metadata": {},
   "outputs": [],
   "source": [
    "import pandas as pd\n",
    "import rpy2.robjects as robjects\n",
    "import numpy as np\n",
    "import scipy.stats\n",
    "import seaborn as sns\n",
    "import matplotlib.pyplot as plt\n",
    "import statsmodels.api as sm\n",
    "%matplotlib inline"
   ]
  },
  {
   "cell_type": "code",
   "execution_count": 2,
   "metadata": {},
   "outputs": [],
   "source": [
    "plt.rcParams['font.family'] = 'IPAgothic'"
   ]
  },
  {
   "cell_type": "code",
   "execution_count": 3,
   "metadata": {},
   "outputs": [],
   "source": [
    "robj = robjects.r['load']('./data/.RData')"
   ]
  },
  {
   "cell_type": "code",
   "execution_count": 4,
   "metadata": {},
   "outputs": [
    {
     "name": "stdout",
     "output_type": "stream",
     "text": [
      ".Random.seed\n",
      "data.cum.core30\n",
      "data.cum.core30.2\n",
      "data.cum.return\n",
      "data.cum.return2\n",
      "data.cum.train\n",
      "data.cum.train.2\n",
      "data.log.core30\n",
      "data.log.return\n",
      "data.log.return2\n",
      "data.price\n",
      "Date\n",
      "label\n",
      "price4\n",
      "return4\n",
      "sample1\n",
      "sample2\n",
      "X.price\n",
      "X.return\n",
      "Y.price\n",
      "Y.return\n",
      "yindex\n"
     ]
    }
   ],
   "source": [
    "for row in robj:\n",
    "    print(row)"
   ]
  },
  {
   "cell_type": "code",
   "execution_count": 8,
   "metadata": {},
   "outputs": [],
   "source": [
    "data = pd.DataFrame(np.array([robjects.r['X.return'], robjects.r['Y.return']]).T, columns=['return_x', 'return_y'])"
   ]
  },
  {
   "cell_type": "code",
   "execution_count": 21,
   "metadata": {
    "scrolled": true
   },
   "outputs": [
    {
     "data": {
      "text/plain": [
       "Text(0.5,1,'Return_y')"
      ]
     },
     "execution_count": 21,
     "metadata": {},
     "output_type": "execute_result"
    },
    {
     "data": {
      "image/png": "[encoded data removed]",
      "text/plain": [
       "<Figure size 720x288 with 2 Axes>"
      ]
     },
     "metadata": {},
     "output_type": "display_data"
    }
   ],
   "source": [
    "# xの散布図\n",
    "fig, ax = plt.subplots(1,2,figsize=(10,4))\n",
    "ax[0].scatter(x=data.loc[0:98, 'return_x'], y=data.loc[1:99, 'return_x'])\n",
    "ax[0].set_title('Return_x')\n",
    "ax[1].scatter(x=data.loc[0:98, 'return_y'], y=data.loc[1:99, 'return_y'])\n",
    "ax[1].set_title('Return_y')"
   ]
  },
  {
   "cell_type": "code",
   "execution_count": 29,
   "metadata": {},
   "outputs": [
    {
     "data": {
      "text/html": [
       "<div>\n",
       "<style scoped>\n",
       "    .dataframe tbody tr th:only-of-type {\n",
       "        vertical-align: middle;\n",
       "    }\n",
       "\n",
       "    .dataframe tbody tr th {\n",
       "        vertical-align: top;\n",
       "    }\n",
       "\n",
       "    .dataframe thead th {\n",
       "        text-align: right;\n",
       "    }\n",
       "</style>\n",
       "<table border=\"1\" class=\"dataframe\">\n",
       "  <thead>\n",
       "    <tr style=\"text-align: right;\">\n",
       "      <th></th>\n",
       "      <th>return_x_1</th>\n",
       "      <th>return_y_1</th>\n",
       "      <th>return_x_2</th>\n",
       "      <th>return_y_2</th>\n",
       "    </tr>\n",
       "  </thead>\n",
       "  <tbody>\n",
       "    <tr>\n",
       "      <th>return_x_1</th>\n",
       "      <td>1.000000</td>\n",
       "      <td>0.084384</td>\n",
       "      <td>0.635370</td>\n",
       "      <td>0.084355</td>\n",
       "    </tr>\n",
       "    <tr>\n",
       "      <th>return_y_1</th>\n",
       "      <td>0.084384</td>\n",
       "      <td>1.000000</td>\n",
       "      <td>0.117742</td>\n",
       "      <td>0.023483</td>\n",
       "    </tr>\n",
       "    <tr>\n",
       "      <th>return_x_2</th>\n",
       "      <td>0.635370</td>\n",
       "      <td>0.117742</td>\n",
       "      <td>1.000000</td>\n",
       "      <td>0.085837</td>\n",
       "    </tr>\n",
       "    <tr>\n",
       "      <th>return_y_2</th>\n",
       "      <td>0.084355</td>\n",
       "      <td>0.023483</td>\n",
       "      <td>0.085837</td>\n",
       "      <td>1.000000</td>\n",
       "    </tr>\n",
       "  </tbody>\n",
       "</table>\n",
       "</div>"
      ],
      "text/plain": [
       "            return_x_1  return_y_1  return_x_2  return_y_2\n",
       "return_x_1    1.000000    0.084384    0.635370    0.084355\n",
       "return_y_1    0.084384    1.000000    0.117742    0.023483\n",
       "return_x_2    0.635370    0.117742    1.000000    0.085837\n",
       "return_y_2    0.084355    0.023483    0.085837    1.000000"
      ]
     },
     "execution_count": 29,
     "metadata": {},
     "output_type": "execute_result"
    }
   ],
   "source": [
    "# 1つシフトしたデータとマージ\n",
    "merge = data.merge(data.shift(1), suffixes=('_1', '_2'), left_index=True, right_index=True)\n",
    "# 相関係数行列\n",
    "merge.corr()"
   ]
  },
  {
   "cell_type": "code",
   "execution_count": 43,
   "metadata": {
    "scrolled": true
   },
   "outputs": [
    {
     "name": "stdout",
     "output_type": "stream",
     "text": [
      "Help on function acf in module statsmodels.tsa.stattools:\n",
      "\n",
      "acf(x, unbiased=False, nlags=40, qstat=False, fft=False, alpha=None, missing='none')\n",
      "    Autocorrelation function for 1d arrays.\n",
      "    \n",
      "    Parameters\n",
      "    ----------\n",
      "    x : array\n",
      "       Time series data\n",
      "    unbiased : bool\n",
      "       If True, then denominators for autocovariance are n-k, otherwise n\n",
      "    nlags: int, optional\n",
      "        Number of lags to return autocorrelation for.\n",
      "    qstat : bool, optional\n",
      "        If True, returns the Ljung-Box q statistic for each autocorrelation\n",
      "        coefficient.  See q_stat for more information.\n",
      "    fft : bool, optional\n",
      "        If True, computes the ACF via FFT.\n",
      "    alpha : scalar, optional\n",
      "        If a number is given, the confidence intervals for the given level are\n",
      "        returned. For instance if alpha=.05, 95 % confidence intervals are\n",
      "        returned where the standard deviation is computed according to\n",
      "        Bartlett's formula.\n",
      "    missing : str, optional\n",
      "        A string in ['none', 'raise', 'conservative', 'drop'] specifying how the NaNs\n",
      "        are to be treated.\n",
      "    \n",
      "    Returns\n",
      "    -------\n",
      "    acf : array\n",
      "        autocorrelation function\n",
      "    confint : array, optional\n",
      "        Confidence intervals for the ACF. Returned if confint is not None.\n",
      "    qstat : array, optional\n",
      "        The Ljung-Box Q-Statistic.  Returned if q_stat is True.\n",
      "    pvalues : array, optional\n",
      "        The p-values associated with the Q-statistics.  Returned if q_stat is\n",
      "        True.\n",
      "    \n",
      "    Notes\n",
      "    -----\n",
      "    The acf at lag 0 (ie., 1) is returned.\n",
      "    \n",
      "    This is based np.correlate which does full convolution. For very long time\n",
      "    series it is recommended to use fft convolution instead.\n",
      "    \n",
      "    If unbiased is true, the denominator for the autocovariance is adjusted\n",
      "    but the autocorrelation is not an unbiased estimtor.\n",
      "    \n",
      "    References\n",
      "    ----------\n",
      "    .. [*] Parzen, E., 1963. On spectral analysis with missing observations\n",
      "       and amplitude modulation. Sankhya: The Indian Journal of\n",
      "       Statistics, Series A, pp.383-392.\n",
      "\n"
     ]
    }
   ],
   "source": [
    "help(sm.tsa.stattools.acf)"
   ]
  },
  {
   "cell_type": "code",
   "execution_count": 44,
   "metadata": {},
   "outputs": [],
   "source": [
    "# 自己相関関数の算出\n",
    "acf = sm.tsa.stattools.acf(merge['return_x_1'], nlags=20, qstat=True, alpha=.05)"
   ]
  },
  {
   "cell_type": "code",
   "execution_count": 45,
   "metadata": {},
   "outputs": [
    {
     "data": {
      "text/plain": [
       "array([ 1.        ,  0.63097735,  0.51663365,  0.44953328,  0.32406794,\n",
       "        0.2945293 ,  0.28604115,  0.15597257,  0.05928554,  0.10331542,\n",
       "        0.13398259,  0.07357625,  0.11553765,  0.05152195, -0.08725323,\n",
       "        0.02001354, -0.03168261, -0.01431162,  0.02696771, -0.00539694,\n",
       "       -0.01992862])"
      ]
     },
     "execution_count": 45,
     "metadata": {},
     "output_type": "execute_result"
    }
   ],
   "source": [
    "# 自己相関係数の値\n",
    "acf[0]"
   ]
  },
  {
   "cell_type": "code",
   "execution_count": 46,
   "metadata": {},
   "outputs": [
    {
     "data": {
      "text/plain": [
       "array([[  1.00000000e+00,   1.00000000e+00],\n",
       "       [  4.34980950e-01,   8.26973747e-01],\n",
       "       [  2.53949860e-01,   7.79317440e-01],\n",
       "       [  1.50352273e-01,   7.48714285e-01],\n",
       "       [ -2.29800611e-05,   6.48158869e-01],\n",
       "       [ -4.17793848e-02,   6.30837980e-01],\n",
       "       [ -6.00343751e-02,   6.32116676e-01],\n",
       "       [ -1.99068830e-01,   5.11013975e-01],\n",
       "       [ -2.98378346e-01,   4.16949425e-01],\n",
       "       [ -2.54725765e-01,   4.61356610e-01],\n",
       "       [ -2.25202006e-01,   4.93167182e-01],\n",
       "       [ -2.87523124e-01,   4.34675626e-01],\n",
       "       [ -2.46137160e-01,   4.77212468e-01],\n",
       "       [ -3.11567932e-01,   4.14611824e-01],\n",
       "       [ -4.50623848e-01,   2.76117381e-01],\n",
       "       [ -3.44161025e-01,   3.84188105e-01],\n",
       "       [ -3.95899427e-01,   3.32534200e-01],\n",
       "       [ -3.78634289e-01,   3.50011049e-01],\n",
       "       [ -3.37376553e-01,   3.91311977e-01],\n",
       "       [ -3.69817880e-01,   3.59023991e-01],\n",
       "       [ -3.84352622e-01,   3.44495390e-01]])"
      ]
     },
     "execution_count": 46,
     "metadata": {},
     "output_type": "execute_result"
    }
   ],
   "source": [
    "# 信頼区間\n",
    "acf[1]"
   ]
  },
  {
   "cell_type": "code",
   "execution_count": 59,
   "metadata": {},
   "outputs": [
    {
     "data": {
      "text/plain": [
       "array([  1.50702253e-10,   1.14877183e-15,   2.13724162e-19,\n",
       "         5.44001782e-21,   3.17794286e-22,   2.17766567e-23,\n",
       "         2.84022726e-23,   1.02964789e-22,   2.38276648e-22,\n",
       "         3.53078507e-22,   9.69924908e-22,   1.66066599e-21,\n",
       "         4.84007036e-21,   1.03676496e-20,   3.16247569e-20,\n",
       "         9.01036137e-20,   2.59434574e-19,   7.03736932e-19,\n",
       "         1.92649566e-18,   5.02698018e-18])"
      ]
     },
     "execution_count": 59,
     "metadata": {},
     "output_type": "execute_result"
    }
   ],
   "source": [
    "# Ljung-Box検定の結果。帰無仮説は「自己相関の有していない」\n",
    "# 結果は自己相関を有していないという仮説を棄却するので、自己相関を有しているということになります。\n",
    "acf[3]"
   ]
  },
  {
   "cell_type": "code",
   "execution_count": 48,
   "metadata": {},
   "outputs": [
    {
     "data": {
      "image/png": "[encoded data removed]",
      "text/plain": [
       "<Figure size 432x288 with 1 Axes>"
      ]
     },
     "metadata": {},
     "output_type": "display_data"
    }
   ],
   "source": [
    "# 自己相関関数のグラフ\n",
    "fig, ax = plt.subplots(1,1)\n",
    "sm.graphics.tsa.plot_acf(merge['return_x_1'], lags=20, ax=ax)\n",
    "plt.show()"
   ]
  },
  {
   "cell_type": "code",
   "execution_count": 49,
   "metadata": {
    "scrolled": true
   },
   "outputs": [
    {
     "name": "stdout",
     "output_type": "stream",
     "text": [
      "Help on function pacf in module statsmodels.tsa.stattools:\n",
      "\n",
      "pacf(x, nlags=40, method='ywunbiased', alpha=None)\n",
      "    Partial autocorrelation estimated\n",
      "    \n",
      "    Parameters\n",
      "    ----------\n",
      "    x : 1d array\n",
      "        observations of time series for which pacf is calculated\n",
      "    nlags : int\n",
      "        largest lag for which pacf is returned\n",
      "    method : {'ywunbiased', 'ywmle', 'ols'}\n",
      "        specifies which method for the calculations to use:\n",
      "    \n",
      "        - yw or ywunbiased : yule walker with bias correction in denominator\n",
      "          for acovf. Default.\n",
      "        - ywm or ywmle : yule walker without bias correction\n",
      "        - ols - regression of time series on lags of it and on constant\n",
      "        - ld or ldunbiased : Levinson-Durbin recursion with bias correction\n",
      "        - ldb or ldbiased : Levinson-Durbin recursion without bias correction\n",
      "    alpha : float, optional\n",
      "        If a number is given, the confidence intervals for the given level are\n",
      "        returned. For instance if alpha=.05, 95 % confidence intervals are\n",
      "        returned where the standard deviation is computed according to\n",
      "        1/sqrt(len(x))\n",
      "    \n",
      "    Returns\n",
      "    -------\n",
      "    pacf : 1d array\n",
      "        partial autocorrelations, nlags elements, including lag zero\n",
      "    confint : array, optional\n",
      "        Confidence intervals for the PACF. Returned if confint is not None.\n",
      "    \n",
      "    Notes\n",
      "    -----\n",
      "    This solves yule_walker equations or ols for each desired lag\n",
      "    and contains currently duplicate calculations.\n",
      "\n"
     ]
    }
   ],
   "source": [
    "help(sm.tsa.stattools.pacf)"
   ]
  },
  {
   "cell_type": "code",
   "execution_count": 54,
   "metadata": {},
   "outputs": [
    {
     "data": {
      "text/plain": [
       "array([ 1.        ,  0.63735086,  0.2037123 ,  0.11605178, -0.06586605,\n",
       "        0.06542388,  0.08595059, -0.15756835, -0.14504708,  0.14981222,\n",
       "        0.17179333, -0.11947313,  0.04055989, -0.04930581, -0.24139893,\n",
       "        0.17395822, -0.09466728,  0.131602  ,  0.06472684, -0.05183839,\n",
       "        0.01385249])"
      ]
     },
     "execution_count": 54,
     "metadata": {},
     "output_type": "execute_result"
    }
   ],
   "source": [
    "# 偏自己相関, 計算方法によって値がずれる。教科書はywmを使っている模様\n",
    "sm.tsa.stattools.pacf(merge['return_x_1'], nlags=20)"
   ]
  },
  {
   "cell_type": "code",
   "execution_count": 57,
   "metadata": {},
   "outputs": [
    {
     "data": {
      "image/png": "[encoded data removed]",
      "text/plain": [
       "<Figure size 432x288 with 1 Axes>"
      ]
     },
     "metadata": {},
     "output_type": "display_data"
    }
   ],
   "source": [
    "# 偏自己相関関数のプロット\n",
    "fig, ax = plt.subplots(1,1)\n",
    "sm.graphics.tsa.plot_pacf(merge['return_x_1'], lags=20, ax=ax)\n",
    "plt.show()"
   ]
  },
  {
   "cell_type": "code",
   "execution_count": 61,
   "metadata": {
    "scrolled": true
   },
   "outputs": [
    {
     "name": "stdout",
     "output_type": "stream",
     "text": [
      "Help on class AR in module statsmodels.tsa.ar_model:\n",
      "\n",
      "class AR(statsmodels.tsa.base.tsa_model.TimeSeriesModel)\n",
      " |  Autoregressive AR(p) model\n",
      " |  \n",
      " |  Parameters\n",
      " |  ----------\n",
      " |  endog : array-like\n",
      " |      1-d endogenous response variable. The independent variable.\n",
      " |  dates : array-like of datetime, optional\n",
      " |      An array-like object of datetime objects. If a pandas object is given\n",
      " |      for endog or exog, it is assumed to have a DateIndex.\n",
      " |  freq : str, optional\n",
      " |      The frequency of the time-series. A Pandas offset or 'B', 'D', 'W',\n",
      " |      'M', 'A', or 'Q'. This is optional if dates are given.\n",
      " |  missing : str\n",
      " |      Available options are 'none', 'drop', and 'raise'. If 'none', no nan\n",
      " |      checking is done. If 'drop', any observations with nans are dropped.\n",
      " |      If 'raise', an error is raised. Default is 'none.'\n",
      " |  \n",
      " |  Method resolution order:\n",
      " |      AR\n",
      " |      statsmodels.tsa.base.tsa_model.TimeSeriesModel\n",
      " |      statsmodels.base.model.LikelihoodModel\n",
      " |      statsmodels.base.model.Model\n",
      " |      builtins.object\n",
      " |  \n",
      " |  Methods defined here:\n",
      " |  \n",
      " |  __init__(self, endog, dates=None, freq=None, missing='none')\n",
      " |      Initialize self.  See help(type(self)) for accurate signature.\n",
      " |  \n",
      " |  fit(self, maxlag=None, method='cmle', ic=None, trend='c', transparams=True, start_params=None, solver='lbfgs', maxiter=35, full_output=1, disp=1, callback=None, **kwargs)\n",
      " |      Fit the unconditional maximum likelihood of an AR(p) process.\n",
      " |      \n",
      " |      Parameters\n",
      " |      ----------\n",
      " |      maxlag : int\n",
      " |          If `ic` is None, then maxlag is the lag length used in fit.  If\n",
      " |          `ic` is specified then maxlag is the highest lag order used to\n",
      " |          select the correct lag order.  If maxlag is None, the default is\n",
      " |          round(12*(nobs/100.)**(1/4.))\n",
      " |      method : str {'cmle', 'mle'}, optional\n",
      " |          cmle - Conditional maximum likelihood using OLS\n",
      " |          mle - Unconditional (exact) maximum likelihood.  See `solver`\n",
      " |          and the Notes.\n",
      " |      ic : str {'aic','bic','hic','t-stat'}\n",
      " |          Criterion used for selecting the optimal lag length.\n",
      " |          aic - Akaike Information Criterion\n",
      " |          bic - Bayes Information Criterion\n",
      " |          t-stat - Based on last lag\n",
      " |          hqic - Hannan-Quinn Information Criterion\n",
      " |          If any of the information criteria are selected, the lag length\n",
      " |          which results in the lowest value is selected.  If t-stat, the\n",
      " |          model starts with maxlag and drops a lag until the highest lag\n",
      " |          has a t-stat that is significant at the 95 % level.\n",
      " |      trend : str {'c','nc'}\n",
      " |          Whether to include a constant or not. 'c' - include constant.\n",
      " |          'nc' - no constant.\n",
      " |      \n",
      " |      The below can be specified if method is 'mle'\n",
      " |      \n",
      " |      transparams : bool, optional\n",
      " |          Whether or not to transform the parameters to ensure stationarity.\n",
      " |          Uses the transformation suggested in Jones (1980).\n",
      " |      start_params : array-like, optional\n",
      " |          A first guess on the parameters.  Default is cmle estimates.\n",
      " |      solver : str or None, optional\n",
      " |          Solver to be used if method is 'mle'.  The default is 'lbfgs'\n",
      " |          (limited memory Broyden-Fletcher-Goldfarb-Shanno).  Other choices\n",
      " |          are 'bfgs', 'newton' (Newton-Raphson), 'nm' (Nelder-Mead),\n",
      " |          'cg' - (conjugate gradient), 'ncg' (non-conjugate gradient),\n",
      " |          and 'powell'.\n",
      " |      maxiter : int, optional\n",
      " |          The maximum number of function evaluations. Default is 35.\n",
      " |      tol : float\n",
      " |          The convergence tolerance.  Default is 1e-08.\n",
      " |      full_output : bool, optional\n",
      " |          If True, all output from solver will be available in\n",
      " |          the Results object's mle_retvals attribute.  Output is dependent\n",
      " |          on the solver.  See Notes for more information.\n",
      " |      disp : bool, optional\n",
      " |          If True, convergence information is output.\n",
      " |      callback : function, optional\n",
      " |          Called after each iteration as callback(xk) where xk is the current\n",
      " |          parameter vector.\n",
      " |      kwargs\n",
      " |          See Notes for keyword arguments that can be passed to fit.\n",
      " |      \n",
      " |      References\n",
      " |      ----------\n",
      " |      Jones, R.H. 1980 \"Maximum likelihood fitting of ARMA models to time\n",
      " |          series with missing observations.\"  `Technometrics`.  22.3.\n",
      " |          389-95.\n",
      " |      \n",
      " |      See also\n",
      " |      --------\n",
      " |      statsmodels.base.model.LikelihoodModel.fit\n",
      " |  \n",
      " |  hessian(self, params)\n",
      " |      Returns numerical hessian for now.\n",
      " |  \n",
      " |  information(self, params)\n",
      " |      Not Implemented Yet\n",
      " |  \n",
      " |  initialize(self)\n",
      " |      Initialize (possibly re-initialize) a Model instance. For\n",
      " |      instance, the design matrix of a linear model may change\n",
      " |      and some things must be recomputed.\n",
      " |  \n",
      " |  loglike(self, params)\n",
      " |      The loglikelihood of an AR(p) process\n",
      " |      \n",
      " |      Parameters\n",
      " |      ----------\n",
      " |      params : array\n",
      " |          The fitted parameters of the AR model\n",
      " |      \n",
      " |      Returns\n",
      " |      -------\n",
      " |      llf : float\n",
      " |          The loglikelihood evaluated at `params`\n",
      " |      \n",
      " |      Notes\n",
      " |      -----\n",
      " |      Contains constant term.  If the model is fit by OLS then this returns\n",
      " |      the conditonal maximum likelihood.\n",
      " |      \n",
      " |      .. math:: \\frac{\\left(n-p\\right)}{2}\\left(\\log\\left(2\\pi\\right)+\\log\\left(\\sigma^{2}\\right)\\right)-\\frac{1}{\\sigma^{2}}\\sum_{i}\\epsilon_{i}^{2}\n",
      " |      \n",
      " |      If it is fit by MLE then the (exact) unconditional maximum likelihood\n",
      " |      is returned.\n",
      " |      \n",
      " |      .. math:: -\\frac{n}{2}log\\left(2\\pi\\right)-\\frac{n}{2}\\log\\left(\\sigma^{2}\\right)+\\frac{1}{2}\\left|V_{p}^{-1}\\right|-\\frac{1}{2\\sigma^{2}}\\left(y_{p}-\\mu_{p}\\right)^{\\prime}V_{p}^{-1}\\left(y_{p}-\\mu_{p}\\right)-\\frac{1}{2\\sigma^{2}}\\sum_{t=p+1}^{n}\\epsilon_{i}^{2}\n",
      " |      \n",
      " |      where\n",
      " |      \n",
      " |      :math:`\\mu_{p}` is a (`p` x 1) vector with each element equal to the\n",
      " |      mean of the AR process and :math:`\\sigma^{2}V_{p}` is the (`p` x `p`)\n",
      " |      variance-covariance matrix of the first `p` observations.\n",
      " |  \n",
      " |  predict(self, params, start=None, end=None, dynamic=False)\n",
      " |      Returns in-sample and out-of-sample prediction.\n",
      " |      \n",
      " |      Parameters\n",
      " |      ----------\n",
      " |      params : array\n",
      " |          The fitted model parameters.\n",
      " |      start : int, str, or datetime\n",
      " |          Zero-indexed observation number at which to start forecasting, ie.,\n",
      " |          the first forecast is start. Can also be a date string to\n",
      " |          parse or a datetime type.\n",
      " |      end : int, str, or datetime\n",
      " |          Zero-indexed observation number at which to end forecasting, ie.,\n",
      " |          the first forecast is start. Can also be a date string to\n",
      " |          parse or a datetime type.\n",
      " |      dynamic : bool\n",
      " |          The `dynamic` keyword affects in-sample prediction. If dynamic\n",
      " |          is False, then the in-sample lagged values are used for\n",
      " |          prediction. If `dynamic` is True, then in-sample forecasts are\n",
      " |          used in place of lagged dependent variables. The first forecasted\n",
      " |          value is `start`.\n",
      " |      \n",
      " |      Returns\n",
      " |      -------\n",
      " |      predicted values : array\n",
      " |      \n",
      " |      Notes\n",
      " |      -----\n",
      " |      The linear Gaussian Kalman filter is used to return pre-sample fitted\n",
      " |      values. The exact initial Kalman Filter is used. See Durbin and Koopman\n",
      " |      in the references for more information.\n",
      " |  \n",
      " |  score(self, params)\n",
      " |      Return the gradient of the loglikelihood at params.\n",
      " |      \n",
      " |      Parameters\n",
      " |      ----------\n",
      " |      params : array-like\n",
      " |          The parameter values at which to evaluate the score function.\n",
      " |      \n",
      " |      Notes\n",
      " |      -----\n",
      " |      Returns numerical gradient.\n",
      " |  \n",
      " |  select_order(self, maxlag, ic, trend='c', method='mle')\n",
      " |      Select the lag order according to the information criterion.\n",
      " |      \n",
      " |      Parameters\n",
      " |      ----------\n",
      " |      maxlag : int\n",
      " |          The highest lag length tried. See `AR.fit`.\n",
      " |      ic : str {'aic','bic','hqic','t-stat'}\n",
      " |          Criterion used for selecting the optimal lag length.\n",
      " |          See `AR.fit`.\n",
      " |      trend : str {'c','nc'}\n",
      " |          Whether to include a constant or not. 'c' - include constant.\n",
      " |          'nc' - no constant.\n",
      " |      \n",
      " |      Returns\n",
      " |      -------\n",
      " |      bestlag : int\n",
      " |          Best lag according to IC.\n",
      " |  \n",
      " |  ----------------------------------------------------------------------\n",
      " |  Data descriptors inherited from statsmodels.tsa.base.tsa_model.TimeSeriesModel:\n",
      " |  \n",
      " |  exog_names\n",
      " |  \n",
      " |  ----------------------------------------------------------------------\n",
      " |  Class methods inherited from statsmodels.base.model.Model:\n",
      " |  \n",
      " |  from_formula(formula, data, subset=None, drop_cols=None, *args, **kwargs) from builtins.type\n",
      " |      Create a Model from a formula and dataframe.\n",
      " |      \n",
      " |      Parameters\n",
      " |      ----------\n",
      " |      formula : str or generic Formula object\n",
      " |          The formula specifying the model\n",
      " |      data : array-like\n",
      " |          The data for the model. See Notes.\n",
      " |      subset : array-like\n",
      " |          An array-like object of booleans, integers, or index values that\n",
      " |          indicate the subset of df to use in the model. Assumes df is a\n",
      " |          `pandas.DataFrame`\n",
      " |      drop_cols : array-like\n",
      " |          Columns to drop from the design matrix.  Cannot be used to\n",
      " |          drop terms involving categoricals.\n",
      " |      args : extra arguments\n",
      " |          These are passed to the model\n",
      " |      kwargs : extra keyword arguments\n",
      " |          These are passed to the model with one exception. The\n",
      " |          ``eval_env`` keyword is passed to patsy. It can be either a\n",
      " |          :class:`patsy:patsy.EvalEnvironment` object or an integer\n",
      " |          indicating the depth of the namespace to use. For example, the\n",
      " |          default ``eval_env=0`` uses the calling namespace. If you wish\n",
      " |          to use a \"clean\" environment set ``eval_env=-1``.\n",
      " |      \n",
      " |      Returns\n",
      " |      -------\n",
      " |      model : Model instance\n",
      " |      \n",
      " |      Notes\n",
      " |      ------\n",
      " |      data must define __getitem__ with the keys in the formula terms\n",
      " |      args and kwargs are passed on to the model instantiation. E.g.,\n",
      " |      a numpy structured or rec array, a dictionary, or a pandas DataFrame.\n",
      " |  \n",
      " |  ----------------------------------------------------------------------\n",
      " |  Data descriptors inherited from statsmodels.base.model.Model:\n",
      " |  \n",
      " |  __dict__\n",
      " |      dictionary for instance variables (if defined)\n",
      " |  \n",
      " |  __weakref__\n",
      " |      list of weak references to the object (if defined)\n",
      " |  \n",
      " |  endog_names\n",
      " |      Names of endogenous variables\n",
      "\n"
     ]
    }
   ],
   "source": [
    "# 自己回帰モデル\n",
    "from statsmodels.tsa.ar_model import AR\n",
    "help(AR)"
   ]
  },
  {
   "cell_type": "code",
   "execution_count": 119,
   "metadata": {},
   "outputs": [],
   "source": [
    "ar = AR(data['return_x']).fit(maxlag=1)"
   ]
  },
  {
   "cell_type": "code",
   "execution_count": 120,
   "metadata": {},
   "outputs": [
    {
     "data": {
      "text/plain": [
       "const          0.113989\n",
       "L1.return_x    0.632272\n",
       "dtype: float64"
      ]
     },
     "execution_count": 120,
     "metadata": {},
     "output_type": "execute_result"
    }
   ],
   "source": [
    "# よくわかりませんが、summaryは出力されない\n",
    "# 係数\n",
    "ar.params"
   ]
  },
  {
   "cell_type": "code",
   "execution_count": 121,
   "metadata": {},
   "outputs": [
    {
     "data": {
      "text/plain": [
       "8.526329596858865"
      ]
     },
     "execution_count": 121,
     "metadata": {},
     "output_type": "execute_result"
    }
   ],
   "source": [
    "sum(ar.resid**2) / 98"
   ]
  },
  {
   "cell_type": "code",
   "execution_count": 124,
   "metadata": {},
   "outputs": [],
   "source": [
    "# ar(1)かar(0)かをaicで決定\n",
    "ar = AR(data['return_y']).fit(maxlag=1)"
   ]
  },
  {
   "cell_type": "code",
   "execution_count": 125,
   "metadata": {},
   "outputs": [
    {
     "data": {
      "text/plain": [
       "const          0.195068\n",
       "L1.return_y    0.023429\n",
       "dtype: float64"
      ]
     },
     "execution_count": 125,
     "metadata": {},
     "output_type": "execute_result"
    }
   ],
   "source": [
    "ar.params"
   ]
  },
  {
   "cell_type": "code",
   "execution_count": 128,
   "metadata": {},
   "outputs": [
    {
     "data": {
      "text/plain": [
       "const          0.508312\n",
       "L1.return_y    0.231343\n",
       "dtype: float64"
      ]
     },
     "execution_count": 128,
     "metadata": {},
     "output_type": "execute_result"
    }
   ],
   "source": [
    "ar.tvalues"
   ]
  },
  {
   "cell_type": "code",
   "execution_count": 157,
   "metadata": {},
   "outputs": [],
   "source": [
    "# シミュレーシン\n",
    "def f(mu, x, phi):\n",
    "    return mu + phi*x + np.random.normal(size=1)[0]"
   ]
  },
  {
   "cell_type": "code",
   "execution_count": 177,
   "metadata": {},
   "outputs": [],
   "source": [
    "params = [1.2, -1.2, 1, -1, 0.5, -0.5]\n",
    "series_list = []\n",
    "for param in params:\n",
    "    series = [0]\n",
    "    x = 0\n",
    "    for i in range(100):\n",
    "        x = f(mu=0, x=x, phi=param)\n",
    "        series.append(x)\n",
    "    series_list.append(series)\n",
    "df = pd.DataFrame(np.array(series_list).T)"
   ]
  },
  {
   "cell_type": "code",
   "execution_count": 183,
   "metadata": {
    "scrolled": false
   },
   "outputs": [
    {
     "data": {
      "text/plain": [
       "array([[<matplotlib.axes._subplots.AxesSubplot object at 0x7f9997c514a8>,\n",
       "        <matplotlib.axes._subplots.AxesSubplot object at 0x7f9997c3d828>],\n",
       "       [<matplotlib.axes._subplots.AxesSubplot object at 0x7f9997be0da0>,\n",
       "        <matplotlib.axes._subplots.AxesSubplot object at 0x7f9997b93358>],\n",
       "       [<matplotlib.axes._subplots.AxesSubplot object at 0x7f9997bbb8d0>,\n",
       "        <matplotlib.axes._subplots.AxesSubplot object at 0x7f9997bbb908>]], dtype=object)"
      ]
     },
     "execution_count": 183,
     "metadata": {},
     "output_type": "execute_result"
    },
    {
     "data": {
      "image/png": "[encoded data removed]",
      "text/plain": [
       "<Figure size 864x576 with 6 Axes>"
      ]
     },
     "metadata": {},
     "output_type": "display_data"
    }
   ],
   "source": [
    "df.plot(kind='line', subplots=True, layout=(3,2), figsize=(12,8), legend=False)"
   ]
  },
  {
   "cell_type": "code",
   "execution_count": 224,
   "metadata": {},
   "outputs": [
    {
     "name": "stdout",
     "output_type": "stream",
     "text": [
      "pavalue:0.8698267280984641\n"
     ]
    }
   ],
   "source": [
    "# Dickey-Fuller検定\n",
    "# データのインポート\n",
    "a = robjects.r['price4']\n",
    "data = pd.DataFrame(np.array(a).T, columns=a.colnames)\n",
    "# Dickey-Fuller検定\n",
    "# 帰無仮説はデータ系列に単位根が存在する。\n",
    "adf, pvalue, usedlag, nobs, critical_values, icbest = sm.tsa.stattools.adfuller(data['x7272'])\n",
    "print('pavalue:{}'.format(pvalue))"
   ]
  },
  {
   "cell_type": "code",
   "execution_count": 230,
   "metadata": {
    "scrolled": true
   },
   "outputs": [
    {
     "data": {
      "text/plain": [
       "(-5.1207228559145985,\n",
       " 1.2734463737985407e-05,\n",
       " 4,\n",
       " 96,\n",
       " {'1%': -3.5003788874873405,\n",
       "  '5%': -2.8921519665075235,\n",
       "  '10%': -2.5830997960069446},\n",
       " 254.025903706566)"
      ]
     },
     "execution_count": 230,
     "metadata": {},
     "output_type": "execute_result"
    }
   ],
   "source": [
    "# おまけ\n",
    "# 定常過程でテスト,結果は棄却されるので単位根は存在しない。\n",
    "sm.tsa.stattools.adfuller(df[4])"
   ]
  },
  {
   "cell_type": "code",
   "execution_count": 234,
   "metadata": {
    "scrolled": true
   },
   "outputs": [
    {
     "name": "stdout",
     "output_type": "stream",
     "text": [
      "pvalue:0.6801202782257602\n",
      "pvalue:0.34989279989339966\n",
      "pvalue:0.9529852478948493\n",
      "pvalue:0.2274304024610957\n",
      "pvalue:0.9689748662048892\n",
      "pvalue:0.5688559586381441\n",
      "pvalue:0.9494901799085367\n",
      "pvalue:0.8417868857927915\n",
      "pvalue:0.29773327631289925\n",
      "pvalue:0.8560485980461545\n",
      "pvalue:0.129298855636104\n",
      "pvalue:0.3386646727130659\n",
      "pvalue:0.34485187193471534\n",
      "pvalue:0.47073397407210044\n",
      "pvalue:0.3542764631887739\n",
      "pvalue:0.8213498199997464\n",
      "pvalue:0.6749913124933878\n",
      "pvalue:0.7927785338742698\n",
      "pvalue:0.9103585396103151\n",
      "pvalue:0.39917545564527146\n",
      "pvalue:0.20742296093507095\n",
      "pvalue:0.7348195033958254\n",
      "pvalue:0.9404288948483338\n",
      "pvalue:0.15279031643006674\n",
      "pvalue:0.4295581566127168\n",
      "pvalue:0.6794976986335994\n",
      "pvalue:0.012011466646136115\n",
      "pvalue:0.1457342085437821\n",
      "pvalue:0.9964151916996395\n",
      "pvalue:0.24972540993288722\n",
      "pvalue:0.5998889606524686\n",
      "pvalue:0.6462371865498086\n",
      "pvalue:0.7687698758221537\n",
      "pvalue:0.19903869861946782\n",
      "pvalue:0.5791563643824289\n",
      "pvalue:0.48838300700475773\n",
      "pvalue:0.38732456678030003\n",
      "pvalue:0.25165145632144553\n",
      "pvalue:0.40560520063459493\n",
      "pvalue:0.17948586742029837\n",
      "pvalue:0.13708205134127543\n",
      "pvalue:0.5689202638068879\n",
      "pvalue:0.8883358796421269\n",
      "pvalue:0.5855772320838445\n",
      "pvalue:0.7600183769634354\n",
      "pvalue:0.897650700797386\n",
      "pvalue:0.8499153836685542\n",
      "pvalue:0.814566240202997\n",
      "pvalue:0.17781822409508385\n",
      "pvalue:0.566334664677536\n",
      "pvalue:0.7698972370018443\n",
      "pvalue:0.24207579964703435\n",
      "pvalue:0.7271562877732003\n",
      "pvalue:0.037266097810595866\n",
      "pvalue:0.17168474683843105\n",
      "pvalue:0.18780864582243956\n",
      "pvalue:0.7283821285702565\n",
      "pvalue:0.1954893259971477\n",
      "pvalue:0.9013091579435004\n",
      "pvalue:0.6263469275576125\n",
      "pvalue:0.9302004839579311\n",
      "pvalue:0.3084593531898705\n",
      "pvalue:0.8546997320003669\n",
      "pvalue:0.17902622896555775\n",
      "pvalue:0.6622864904082646\n",
      "pvalue:0.21928640924339188\n",
      "pvalue:0.258139253799071\n",
      "pvalue:0.7153483755080458\n",
      "pvalue:0.52236897406872\n",
      "pvalue:0.9828621742336793\n",
      "pvalue:0.06953798730193145\n",
      "pvalue:0.7505044516261843\n",
      "pvalue:0.07327803036409795\n",
      "pvalue:0.6552047157091007\n",
      "pvalue:0.8753383924262566\n",
      "pvalue:0.6540944493353689\n",
      "pvalue:0.7407149769877475\n",
      "pvalue:0.010324817960591471\n",
      "pvalue:0.8080944793692539\n",
      "pvalue:0.6365709744054807\n",
      "pvalue:0.11528701021003035\n",
      "pvalue:0.002169266429389599\n",
      "pvalue:0.8735906669177999\n",
      "pvalue:0.07594662611817798\n",
      "pvalue:0.7222541481726537\n",
      "pvalue:0.5761320484316291\n",
      "pvalue:0.7955517752334047\n",
      "pvalue:0.02819740683400926\n",
      "pvalue:0.1299462749923978\n",
      "pvalue:0.34598094360292003\n",
      "pvalue:0.7247848036569133\n",
      "pvalue:0.7085653296269562\n",
      "pvalue:0.40857863645824494\n",
      "pvalue:0.27762698621161036\n",
      "pvalue:0.050978622316038315\n",
      "pvalue:0.6858373360941733\n",
      "pvalue:0.1366766607367259\n",
      "pvalue:0.9168765548472049\n",
      "pvalue:0.05747191350162838\n",
      "pvalue:0.020469393955218837\n"
     ]
    }
   ],
   "source": [
    "# なんとなく第一種の過誤をほんとに起こすのかどうかを見てみる。\n",
    "for i in range(100):\n",
    "    x = 0\n",
    "    y = [0]\n",
    "    for j in range(100):\n",
    "        x = f(mu=0, x=x, phi=1.0)\n",
    "        y.append(x)\n",
    "    result = sm.tsa.stattools.adfuller(y)\n",
    "    print('pvalue:{}'.format(result[1]))"
   ]
  },
  {
   "cell_type": "code",
   "execution_count": 242,
   "metadata": {
    "scrolled": true
   },
   "outputs": [
    {
     "name": "stdout",
     "output_type": "stream",
     "text": [
      "pvalue:1.0949785696011112e-20\n"
     ]
    }
   ],
   "source": [
    "# 収益率にdickey-fuller検定\n",
    "# 帰無仮説は棄却されるので、単位根は含まれない。\n",
    "a = robjects.r['return4']\n",
    "df = pd.DataFrame(np.array(a).T, columns=a.colnames)\n",
    "results = sm.tsa.stattools.adfuller(df['x7272'])\n",
    "print('pvalue:{}'.format(results[1]))"
   ]
  },
  {
   "cell_type": "code",
   "execution_count": null,
   "metadata": {},
   "outputs": [],
   "source": []
  }
 ],
 "metadata": {
  "kernelspec": {
   "display_name": "Python 3",
   "language": "python",
   "name": "python3"
  },
  "language_info": {
   "codemirror_mode": {
    "name": "ipython",
    "version": 3
   },
   "file_extension": ".py",
   "mimetype": "text/x-python",
   "name": "python",
   "nbconvert_exporter": "python",
   "pygments_lexer": "ipython3",
   "version": "3.6.5"
  }
 },
 "nbformat": 4,
 "nbformat_minor": 2
}
